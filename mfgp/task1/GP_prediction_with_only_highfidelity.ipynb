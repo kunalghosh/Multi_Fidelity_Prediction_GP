{
 "cells": [
  {
   "cell_type": "code",
   "execution_count": 1,
   "metadata": {
    "autoscroll": false,
    "ein.hycell": false,
    "ein.tags": "worksheet-0",
    "slideshow": {
     "slide_type": "-"
    }
   },
   "outputs": [
    {
     "name": "stdout",
     "output_type": "stream",
     "text": [
      "Requirement already satisfied: torch in /Users/ghoshk1/anaconda3/envs/myenv/lib/python3.7/site-packages (1.1.0)\n",
      "Requirement already satisfied: gpytorch in /Users/ghoshk1/anaconda3/envs/myenv/lib/python3.7/site-packages (0.2.1)\n",
      "Requirement already satisfied: dscribe in /Users/ghoshk1/anaconda3/envs/myenv/lib/python3.7/site-packages (0.2.6)\n",
      "Requirement already satisfied: ase in /Users/ghoshk1/anaconda3/envs/myenv/lib/python3.7/site-packages (3.17.0)\n",
      "Requirement already satisfied: numpy in /Users/ghoshk1/anaconda3/envs/myenv/lib/python3.7/site-packages (from torch) (1.15.4)\n",
      "Requirement already satisfied: soaplite==1.0.3 in /Users/ghoshk1/anaconda3/envs/myenv/lib/python3.7/site-packages (from dscribe) (1.0.3)\n",
      "Requirement already satisfied: scikit-learn==0.20.3 in /Users/ghoshk1/anaconda3/envs/myenv/lib/python3.7/site-packages (from dscribe) (0.20.3)\n",
      "Requirement already satisfied: scipy in /Users/ghoshk1/anaconda3/envs/myenv/lib/python3.7/site-packages (from dscribe) (1.1.0)\n",
      "Requirement already satisfied: joblib in /Users/ghoshk1/anaconda3/envs/myenv/lib/python3.7/site-packages (from dscribe) (0.13.2)\n",
      "Requirement already satisfied: future in /Users/ghoshk1/anaconda3/envs/myenv/lib/python3.7/site-packages (from dscribe) (0.16.0)\n",
      "Requirement already satisfied: flask in /Users/ghoshk1/anaconda3/envs/myenv/lib/python3.7/site-packages (from ase) (1.0.3)\n",
      "Requirement already satisfied: matplotlib in /Users/ghoshk1/anaconda3/envs/myenv/lib/python3.7/site-packages (from ase) (3.0.1)\n",
      "Requirement already satisfied: Jinja2>=2.10 in /Users/ghoshk1/anaconda3/envs/myenv/lib/python3.7/site-packages (from flask->ase) (2.10)\n",
      "Requirement already satisfied: Werkzeug>=0.14 in /Users/ghoshk1/anaconda3/envs/myenv/lib/python3.7/site-packages (from flask->ase) (0.15.4)\n",
      "Requirement already satisfied: itsdangerous>=0.24 in /Users/ghoshk1/anaconda3/envs/myenv/lib/python3.7/site-packages (from flask->ase) (1.1.0)\n",
      "Requirement already satisfied: click>=5.1 in /Users/ghoshk1/anaconda3/envs/myenv/lib/python3.7/site-packages (from flask->ase) (7.0)\n",
      "Requirement already satisfied: cycler>=0.10 in /Users/ghoshk1/anaconda3/envs/myenv/lib/python3.7/site-packages (from matplotlib->ase) (0.10.0)\n",
      "Requirement already satisfied: kiwisolver>=1.0.1 in /Users/ghoshk1/anaconda3/envs/myenv/lib/python3.7/site-packages (from matplotlib->ase) (1.0.1)\n",
      "Requirement already satisfied: pyparsing!=2.0.4,!=2.1.2,!=2.1.6,>=2.0.1 in /Users/ghoshk1/anaconda3/envs/myenv/lib/python3.7/site-packages (from matplotlib->ase) (2.2.1)\n",
      "Requirement already satisfied: python-dateutil>=2.1 in /Users/ghoshk1/anaconda3/envs/myenv/lib/python3.7/site-packages (from matplotlib->ase) (2.7.3)\n",
      "Requirement already satisfied: MarkupSafe>=0.23 in /Users/ghoshk1/anaconda3/envs/myenv/lib/python3.7/site-packages (from Jinja2>=2.10->flask->ase) (1.0)\n",
      "Requirement already satisfied: six in /Users/ghoshk1/anaconda3/envs/myenv/lib/python3.7/site-packages (from cycler>=0.10->matplotlib->ase) (1.11.0)\n",
      "Requirement already satisfied: setuptools in /Users/ghoshk1/anaconda3/envs/myenv/lib/python3.7/site-packages (from kiwisolver>=1.0.1->matplotlib->ase) (40.4.3)\n"
     ]
    }
   ],
   "source": [
    "!pip install torch gpytorch dscribe ase"
   ]
  },
  {
   "cell_type": "code",
   "execution_count": 2,
   "metadata": {
    "autoscroll": false,
    "ein.hycell": false,
    "ein.tags": "worksheet-0",
    "slideshow": {
     "slide_type": "-"
    }
   },
   "outputs": [],
   "source": [
    "import sys\n",
    "\n",
    "import pandas as pd\n",
    "import matplotlib\n",
    "%matplotlib inline\n",
    "\n",
    "import torch\n",
    "import gpytorch\n",
    "import dscribe \n",
    "import numpy as np\n",
    "import ase\n",
    "\n",
    "sys.path.append(\"..\")\n",
    "from utils import helpers\n",
    "\n",
    "pd.set_option('display.width',5000)\n",
    "pd.set_option('display.max_columns',200)"
   ]
  },
  {
   "cell_type": "code",
   "execution_count": 3,
   "metadata": {
    "autoscroll": false,
    "ein.hycell": false,
    "ein.tags": "worksheet-0",
    "slideshow": {
     "slide_type": "-"
    }
   },
   "outputs": [],
   "source": [
    "# download file if it doesn't exist\n",
    "# !curl -Lo ../df_full_split_ids_with_smiles_v15.json.tar.gz https://users.aalto.fi/ghoshk1/df_full_split_ids_with_smiles_v15.json.tar.gz\n",
    "# !tar -xvzf ../df_full_split_ids_with_smiles_v15.json.tar.gz -C ..\n",
    "\n",
    "# Use local file otherwise\n",
    "json_file = \"../df_full_split_ids_with_smiles_v15.json\""
   ]
  },
  {
   "cell_type": "code",
   "execution_count": 4,
   "metadata": {
    "autoscroll": false,
    "ein.hycell": false,
    "ein.tags": "worksheet-0",
    "slideshow": {
     "slide_type": "-"
    }
   },
   "outputs": [],
   "source": [
    "df_62k = pd.read_json(json_file, orient='split')"
   ]
  },
  {
   "cell_type": "code",
   "execution_count": 5,
   "metadata": {
    "autoscroll": false,
    "ein.hycell": false,
    "ein.tags": "worksheet-1",
    "slideshow": {
     "slide_type": "-"
    }
   },
   "outputs": [],
   "source": [
    "# compute HOMO_PBE (low fidelity) for all 62k molecules\n",
    "get_level = helpers.get_level\n",
    "df_62k['HOMO_PBE'] = df_62k.apply (lambda row: get_level(row, level_type='HOMO', subset='PBE+vdW_vacuum'), axis=1)"
   ]
  },
  {
   "cell_type": "code",
   "execution_count": 6,
   "metadata": {},
   "outputs": [],
   "source": [
    "# get 5k subset which has high fidelity data\n",
    "df_5k = df_62k[df_62k.energies_occ_gw_qzvp.notnull()]"
   ]
  },
  {
   "cell_type": "code",
   "execution_count": 7,
   "metadata": {},
   "outputs": [
    {
     "name": "stderr",
     "output_type": "stream",
     "text": [
      "/Users/ghoshk1/anaconda3/envs/myenv/lib/python3.7/site-packages/ipykernel_launcher.py:2: SettingWithCopyWarning: \n",
      "A value is trying to be set on a copy of a slice from a DataFrame.\n",
      "Try using .loc[row_indexer,col_indexer] = value instead\n",
      "\n",
      "See the caveats in the documentation: http://pandas.pydata.org/pandas-docs/stable/indexing.html#indexing-view-versus-copy\n",
      "  \n"
     ]
    }
   ],
   "source": [
    "# compute high fidelity levels for the 5k\n",
    "df_5k['HOMO_GOWO'] = df_5k.apply(lambda row: get_level(row, level_type='HOMO', subset='GOWO_at_PBE0_qzvp'), axis=1)"
   ]
  },
  {
   "cell_type": "code",
   "execution_count": 8,
   "metadata": {},
   "outputs": [
    {
     "data": {
      "text/plain": [
       "5239"
      ]
     },
     "execution_count": 8,
     "metadata": {},
     "output_type": "execute_result"
    }
   ],
   "source": [
    "len(df_5k)"
   ]
  },
  {
   "cell_type": "markdown",
   "metadata": {},
   "source": [
    "# High-fidelity train and predict : \n",
    "Of the 5k molecules with high-fidelity energy levels, train on 4k and predict the remaining 1k"
   ]
  },
  {
   "cell_type": "code",
   "execution_count": 9,
   "metadata": {},
   "outputs": [
    {
     "name": "stdout",
     "output_type": "stream",
     "text": [
      "Number of training data = 4239, test data = 1000\n"
     ]
    }
   ],
   "source": [
    "test_5k = df_5k[-1000:]\n",
    "train_5k = df_5k[:-1000]\n",
    "print(f\"Number of training data = {len(train_5k)}, test data = {len(test_5k)}\")"
   ]
  },
  {
   "cell_type": "code",
   "execution_count": 62,
   "metadata": {},
   "outputs": [],
   "source": [
    "import ase.io\n",
    "from dscribe.descriptors import MBTR\n",
    "\n",
    "# get all the atoms present in dataset\n",
    "xyz2ase = helpers.xyz2ase\n",
    "atoms_in_mols = train_5k['xyz_pbe_relaxed'].apply(lambda data: xyz2ase(data).numbers)\n",
    "atom_set = set()\n",
    "for atom in atoms_in_mols:\n",
    "    atom_set = atom_set.union(set(atom))\n",
    "\n",
    "\n",
    "mbtr = MBTR(\n",
    "#     species=[\"H\", \"O\"],\n",
    "    species = list(atom_set),\n",
    "    k1={\n",
    "        \"geometry\": {\"function\": \"atomic_number\"},\n",
    "        \"grid\": {\"min\": 0, \"max\": 8, \"n\": 100, \"sigma\": 0.1},\n",
    "    },\n",
    "    k2={\n",
    "        \"geometry\": {\"function\": \"inverse_distance\"},\n",
    "        \"grid\": {\"min\": 0, \"max\": 1, \"n\": 100, \"sigma\": 0.1},\n",
    "        \"weighting\": {\"function\": \"exponential\", \"scale\": 0.5, \"cutoff\": 1e-3},\n",
    "    },\n",
    "    k3={\n",
    "        \"geometry\": {\"function\": \"cosine\"},\n",
    "        \"grid\": {\"min\": -1, \"max\": 1, \"n\": 100, \"sigma\": 0.1},\n",
    "        \"weighting\": {\"function\": \"exponential\", \"scale\": 0.5, \"cutoff\": 1e-3},\n",
    "    },\n",
    "    periodic=False,\n",
    "    normalization=\"l2_each\",\n",
    ")"
   ]
  },
  {
   "cell_type": "code",
   "execution_count": null,
   "metadata": {},
   "outputs": [],
   "source": [
    "train_X = train_5k['xyz_pbe_relaxed'].apply(lambda data: mbtr.create(xyz2ase(data)))\n",
    "train_y = np.asarray(train_5k['HOMO_GOWO'].tolist())"
   ]
  },
  {
   "cell_type": "code",
   "execution_count": 43,
   "metadata": {},
   "outputs": [],
   "source": [
    "a = np.asarray([1, 2, 1, 3, 4])"
   ]
  },
  {
   "cell_type": "code",
   "execution_count": 47,
   "metadata": {},
   "outputs": [
    {
     "data": {
      "text/plain": [
       "{1, 2, 3, 4}"
      ]
     },
     "execution_count": 47,
     "metadata": {},
     "output_type": "execute_result"
    }
   ],
   "source": [
    "set(a)"
   ]
  },
  {
   "cell_type": "code",
   "execution_count": null,
   "metadata": {},
   "outputs": [],
   "source": []
  }
 ],
 "metadata": {
  "kernelspec": {
   "display_name": "Python 3",
   "language": "python",
   "name": "python3"
  },
  "language_info": {
   "codemirror_mode": {
    "name": "ipython",
    "version": 3
   },
   "file_extension": ".py",
   "mimetype": "text/x-python",
   "name": "python",
   "nbconvert_exporter": "python",
   "pygments_lexer": "ipython3",
   "version": "3.7.1"
  },
  "name": "GP_prediction_with_only_highfidelity.ipynb"
 },
 "nbformat": 4,
 "nbformat_minor": 2
}
