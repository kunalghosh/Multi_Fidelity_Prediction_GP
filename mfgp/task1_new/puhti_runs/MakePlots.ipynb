{
 "cells": [
  {
   "cell_type": "markdown",
   "metadata": {},
   "source": [
    "This notebook is used to make plots. The notebook is converted to a plain python text file using [jupytext](https://jupytext.readthedocs.io/en/latest/)"
   ]
  },
  {
   "cell_type": "code",
   "execution_count": 2,
   "metadata": {},
   "outputs": [
    {
     "name": "stdout",
     "output_type": "stream",
     "text": [
      "Defaulting to user installation because normal site-packages is not writeable\n",
      "Requirement already satisfied: xarray in /users/ghoshkun/.local/lib/python3.7/site-packages (0.20.2)\n",
      "Requirement already satisfied: pandas>=1.1 in /users/ghoshkun/.local/lib/python3.7/site-packages (from xarray) (1.3.5)\n",
      "Requirement already satisfied: numpy>=1.18 in /appl/soft/ai/miniconda3/envs/python-data-3.7-2/lib/python3.7/site-packages (from xarray) (1.18.5)\n",
      "Requirement already satisfied: importlib-metadata; python_version < \"3.8\" in /appl/soft/ai/miniconda3/envs/python-data-3.7-2/lib/python3.7/site-packages (from xarray) (1.6.1)\n",
      "Requirement already satisfied: typing-extensions>=3.7; python_version < \"3.8\" in /appl/soft/ai/miniconda3/envs/python-data-3.7-2/lib/python3.7/site-packages (from xarray) (3.7.4.2)\n",
      "Requirement already satisfied: pytz>=2017.3 in /appl/soft/ai/miniconda3/envs/python-data-3.7-2/lib/python3.7/site-packages (from pandas>=1.1->xarray) (2020.1)\n",
      "Requirement already satisfied: python-dateutil>=2.7.3 in /appl/soft/ai/miniconda3/envs/python-data-3.7-2/lib/python3.7/site-packages (from pandas>=1.1->xarray) (2.8.1)\n",
      "Requirement already satisfied: zipp>=0.5 in /appl/soft/ai/miniconda3/envs/python-data-3.7-2/lib/python3.7/site-packages (from importlib-metadata; python_version < \"3.8\"->xarray) (3.1.0)\n",
      "Requirement already satisfied: six>=1.5 in /appl/soft/ai/miniconda3/envs/python-data-3.7-2/lib/python3.7/site-packages (from python-dateutil>=2.7.3->pandas>=1.1->xarray) (1.15.0)\n"
     ]
    }
   ],
   "source": [
    "import numpy as np\n",
    "import pandas as pd\n",
    "!pip install xarray"
   ]
  },
  {
   "cell_type": "code",
   "execution_count": 13,
   "metadata": {},
   "outputs": [],
   "source": [
    "aa_a_1k = pd.read_csv(\"csv_files/Active learning results - new - AA_A_1k.csv\")"
   ]
  },
  {
   "cell_type": "code",
   "execution_count": 15,
   "metadata": {},
   "outputs": [
    {
     "data": {
      "text/plain": [
       "0     0.547348\n",
       "1     0.405195\n",
       "2     0.345960\n",
       "3     0.304385\n",
       "4     0.277288\n",
       "5     0.257633\n",
       "6     0.241584\n",
       "7     0.226030\n",
       "8     0.216310\n",
       "9     0.209477\n",
       "10    0.201103\n",
       "11    0.193271\n",
       "12    0.186277\n",
       "13    0.178212\n",
       "14    0.172891\n",
       "15    0.167611\n",
       "16    0.164436\n",
       "Name: mean_vals, dtype: float64"
      ]
     },
     "execution_count": 15,
     "metadata": {},
     "output_type": "execute_result"
    }
   ],
   "source": [
    "aa_a_1k.mean_vals"
   ]
  },
  {
   "cell_type": "code",
   "execution_count": 178,
   "metadata": {},
   "outputs": [
    {
     "name": "stdout",
     "output_type": "stream",
     "text": [
      "/projappl/project_2000382/ghoshkun/code/Multi_Fidelity_Prediction_GP/mfgp/task1_new/puhti_runs\n",
      "WARNING: this module has been deprecated and may be removed in the future,\n",
      "please see:\n",
      "https://docs.csc.fi/support/deprecate-conda/\n",
      "\n",
      "Defaulting to user installation because normal site-packages is not writeable\n",
      "Collecting jupytext\n",
      "  Downloading jupytext-1.13.7-py3-none-any.whl (297 kB)\n",
      "\u001b[K     |████████████████████████████████| 297 kB 2.6 MB/s eta 0:00:01\n",
      "\u001b[?25hRequirement already satisfied: nbformat in /appl/soft/ai/miniconda3/envs/python-data-3.7-2/lib/python3.7/site-packages (from jupytext) (5.0.6)\n",
      "Collecting markdown-it-py~=1.0\n",
      "  Using cached markdown_it_py-1.1.0-py3-none-any.whl (83 kB)\n",
      "Collecting mdit-py-plugins\n",
      "  Using cached mdit_py_plugins-0.3.0-py3-none-any.whl (43 kB)\n",
      "Requirement already satisfied: pyyaml in /appl/soft/ai/miniconda3/envs/python-data-3.7-2/lib/python3.7/site-packages (from jupytext) (5.3.1)\n",
      "Requirement already satisfied: toml in /appl/soft/ai/miniconda3/envs/python-data-3.7-2/lib/python3.7/site-packages (from jupytext) (0.10.1)\n",
      "Requirement already satisfied: jupyter-core in /appl/soft/ai/miniconda3/envs/python-data-3.7-2/lib/python3.7/site-packages (from nbformat->jupytext) (4.6.3)\n",
      "Requirement already satisfied: jsonschema!=2.5.0,>=2.4 in /appl/soft/ai/miniconda3/envs/python-data-3.7-2/lib/python3.7/site-packages (from nbformat->jupytext) (3.2.0)\n",
      "Requirement already satisfied: ipython-genutils in /appl/soft/ai/miniconda3/envs/python-data-3.7-2/lib/python3.7/site-packages (from nbformat->jupytext) (0.2.0)\n",
      "Requirement already satisfied: traitlets>=4.1 in /appl/soft/ai/miniconda3/envs/python-data-3.7-2/lib/python3.7/site-packages (from nbformat->jupytext) (4.3.3)\n",
      "Requirement already satisfied: attrs<22,>=19 in /appl/soft/ai/miniconda3/envs/python-data-3.7-2/lib/python3.7/site-packages (from markdown-it-py~=1.0->jupytext) (19.3.0)\n",
      "Requirement already satisfied: typing-extensions>=3.7.4; python_version < \"3.8\" in /appl/soft/ai/miniconda3/envs/python-data-3.7-2/lib/python3.7/site-packages (from markdown-it-py~=1.0->jupytext) (3.7.4.2)\n",
      "Requirement already satisfied: setuptools in /appl/soft/ai/miniconda3/envs/python-data-3.7-2/lib/python3.7/site-packages (from jsonschema!=2.5.0,>=2.4->nbformat->jupytext) (47.1.1.post20200529)\n",
      "Requirement already satisfied: pyrsistent>=0.14.0 in /appl/soft/ai/miniconda3/envs/python-data-3.7-2/lib/python3.7/site-packages (from jsonschema!=2.5.0,>=2.4->nbformat->jupytext) (0.16.0)\n",
      "Requirement already satisfied: importlib-metadata; python_version < \"3.8\" in /appl/soft/ai/miniconda3/envs/python-data-3.7-2/lib/python3.7/site-packages (from jsonschema!=2.5.0,>=2.4->nbformat->jupytext) (1.6.1)\n",
      "Requirement already satisfied: six>=1.11.0 in /appl/soft/ai/miniconda3/envs/python-data-3.7-2/lib/python3.7/site-packages (from jsonschema!=2.5.0,>=2.4->nbformat->jupytext) (1.15.0)\n",
      "Requirement already satisfied: decorator in /appl/soft/ai/miniconda3/envs/python-data-3.7-2/lib/python3.7/site-packages (from traitlets>=4.1->nbformat->jupytext) (4.4.2)\n",
      "Requirement already satisfied: zipp>=0.5 in /appl/soft/ai/miniconda3/envs/python-data-3.7-2/lib/python3.7/site-packages (from importlib-metadata; python_version < \"3.8\"->jsonschema!=2.5.0,>=2.4->nbformat->jupytext) (3.1.0)\n",
      "Installing collected packages: markdown-it-py, mdit-py-plugins, jupytext\n",
      "Successfully installed jupytext-1.13.7 markdown-it-py-1.1.0 mdit-py-plugins-0.3.0\n",
      "[jupytext] Reading MakePlots.ipynb in format ipynb\n",
      "[jupytext] Updating MakePlots.py\n"
     ]
    }
   ],
   "source": [
    "os.chdir(\"/projappl/project_2000382/ghoshkun/code/Multi_Fidelity_Prediction_GP/mfgp/task1_new/puhti_runs\")\n",
    "print(os.getcwd())\n",
    "!module load python-data/3.7.6-1\n",
    "!python -m pip install jupytext\n",
    "!python -m jupytext --sync MakePlots.ipynb"
   ]
  },
  {
   "cell_type": "markdown",
   "metadata": {},
   "source": [
    "# Energy (x) vs Uncertainty (y) plot\n",
    "In this plot we load the python model for each batch in run 1 of a given Dataset/Strategy/Batches combo (e.g. AA_D_EXP ) and make a plot which shows where was the uncertainty reduced the most. The data for this plot is present in `Puhti` under `/scratch/project_2000382/ghoshkun/Multi_Fidelity_Prediction_GP/mfgp/task1_new/puhti_runs`"
   ]
  },
  {
   "cell_type": "code",
   "execution_count": 8,
   "metadata": {},
   "outputs": [
    {
     "data": {
      "text/plain": [
       "'/scratch/project_2000382/ghoshkun/Multi_Fidelity_Prediction_GP/mfgp/task1_new/puhti_runs'"
      ]
     },
     "execution_count": 8,
     "metadata": {},
     "output_type": "execute_result"
    }
   ],
   "source": [
    "import os\n",
    "os.getcwd()"
   ]
  },
  {
   "cell_type": "markdown",
   "metadata": {},
   "source": [
    "Set the current working directory to where the data exists"
   ]
  },
  {
   "cell_type": "code",
   "execution_count": 14,
   "metadata": {},
   "outputs": [],
   "source": [
    "os.chdir(\"/projappl/project_2000382/ghoshkun/code/Multi_Fidelity_Prediction_GP/mfgp/task1_new/puhti_runs\")\n",
    "assert os.getcwd() == \"/projappl/project_2000382/ghoshkun/code/Multi_Fidelity_Prediction_GP/mfgp/task1_new/puhti_runs\""
   ]
  },
  {
   "cell_type": "markdown",
   "metadata": {},
   "source": [
    "TODO : For the plot with the new data, save the means and standard deviation."
   ]
  },
  {
   "cell_type": "markdown",
   "metadata": {},
   "source": [
    "# Data savings plot\n",
    "\n",
    "The code is based on the original implementation in "
   ]
  },
  {
   "cell_type": "code",
   "execution_count": 142,
   "metadata": {},
   "outputs": [
    {
     "name": "stdout",
     "output_type": "stream",
     "text": [
      "/projappl/project_2000382/ghoshkun/code/Multi_Fidelity_Prediction_GP/mfgp/task1_new/puhti_runs\n"
     ]
    }
   ],
   "source": [
    "os.chdir(\"/projappl/project_2000382/ghoshkun/code/Multi_Fidelity_Prediction_GP/mfgp/task1_new/puhti_runs\")\n",
    "print(os.getcwd())\n",
    "aa_a_1k = pd.read_csv(\"csv_files/Active_learning_results - AA_A_1k.csv\")\n",
    "aa_d_1k = pd.read_csv(\"csv_files/Active_learning_results - AA_D_1k.csv\")\n",
    "\n",
    "aa_a_2k = pd.read_csv(\"csv_files/Active_learning_results - AA_A_2k.csv\")\n",
    "aa_d_2k = pd.read_csv(\"csv_files/Active_learning_results - AA_D_2k.csv\")\n",
    "\n",
    "aa_a_4k = pd.read_csv(\"csv_files/Active_learning_results - AA_A_4k.csv\")\n",
    "aa_d_4k = pd.read_csv(\"csv_files/Active_learning_results - AA_D_4k.csv\")\n",
    "\n",
    "aa_a_8k = pd.read_csv(\"csv_files/Active_learning_results - AA_A_8k.csv\")\n",
    "aa_d_8k = pd.read_csv(\"csv_files/Active_learning_results - AA_D_8k.csv\")\n"
   ]
  },
  {
   "cell_type": "code",
   "execution_count": 143,
   "metadata": {},
   "outputs": [],
   "source": [
    "from collections import namedtuple\n",
    "Dataset = namedtuple(\"Dataset\", \"strategy mean_val std_val coeff\")\n",
    "\n",
    "# get_named_tuple\n",
    "# QM9 = Dataset([\"A\",\"D\"], \n",
    "#               [aa_a_1k.mean_vals.to_numpy(), aa_d_1k.mean_vals.to_numpy()],\n",
    "#               [aa_a_1k.std_vals.to_numpy(), aa_d_1k.std_vals.to_numpy()],\n",
    "#               []\n",
    "#              )\n",
    "# create a list of lists with means and standard deviations\n",
    "# def get_means_stds(list_of_dfs):\n",
    "#     for df in list_of_dfs:"
   ]
  },
  {
   "cell_type": "code",
   "execution_count": 169,
   "metadata": {},
   "outputs": [],
   "source": [
    "# formatting plots\n",
    "font = {'family' : 'normal',\n",
    "        # 'weight' : 'bold',\n",
    "        'size'   : 15}\n",
    "lines = {\"linewidth\": 4}\n",
    "\n",
    "matplotlib.rc('font', **font)\n",
    "matplotlib.rc('lines', **lines)\n",
    "\n",
    "batch_size = 8 # 1 for 1k, 2 for 2k etc\n",
    "batch_sizes = np.arange(0,17,batch_size) + 1\n",
    "labels = \"A B C D E F G\".split(\" \")\n",
    "labs = [[_] for _ in labels]\n",
    "\n",
    "aa_a_means = aa_a_8k.mean_vals.to_numpy()\n",
    "aa_d_means = aa_d_8k.mean_vals.to_numpy()\n",
    "\n",
    "aa_a_stds = aa_a_8k.std_vals.to_numpy()\n",
    "aa_d_stds = aa_d_8k.std_vals.to_numpy()\n",
    "\n",
    "\n",
    "stds = [aa_a_stds,\n",
    "     [],\n",
    "     [],\n",
    "     aa_d_stds,\n",
    "     [],\n",
    "     [],\n",
    "     []]\n",
    "\n",
    "means = [aa_a_means,\n",
    "     [],\n",
    "     [],\n",
    "     aa_d_means,\n",
    "     [],\n",
    "     [],\n",
    "     []]"
   ]
  },
  {
   "cell_type": "code",
   "execution_count": 174,
   "metadata": {},
   "outputs": [
    {
     "ename": "SyntaxError",
     "evalue": "invalid syntax (<ipython-input-174-851ec573a7e3>, line 1)",
     "output_type": "error",
     "traceback": [
      "\u001b[0;36m  File \u001b[0;32m\"<ipython-input-174-851ec573a7e3>\"\u001b[0;36m, line \u001b[0;32m1\u001b[0m\n\u001b[0;31m    ```{toggle}```\u001b[0m\n\u001b[0m    ^\u001b[0m\n\u001b[0;31mSyntaxError\u001b[0m\u001b[0;31m:\u001b[0m invalid syntax\n"
     ]
    }
   ],
   "source": [
    "def plot_strategy_a_vs_d(dataset_name, means, stds):\n",
    "    for idx, (mean, std) in enumerate(zip(means,stds)):\n",
    "        if labels[idx] in ['A', 'D']:\n",
    "            \"\"\"\n",
    "            Only plot strategy A and D.\n",
    "            \"\"\"\n",
    "            _ = plt.errorbar(batch_sizes, mean, std, capsize=lines['linewidth'])\n",
    "            _ = plt.scatter(batch_sizes, mean, label=labels[idx])\n",
    "    plt.grid()\n",
    "    plt.xlabel(\"Dataset size (x2000)\")\n",
    "    plt.ylabel(\"MAE (eV)\")\n",
    "    plt.xlim((0, 18))\n",
    "    plt.xticks(range(0, 17, 2))\n",
    "    plt.title(f\"{dataset_name} - Strategy A vs D\")\n",
    "\n",
    "plot_strategy_a_vs_d(dataset_name = \"AA\", means=means, stds=stds)    "
   ]
  },
  {
   "cell_type": "code",
   "execution_count": 171,
   "metadata": {},
   "outputs": [
    {
     "name": "stdout",
     "output_type": "stream",
     "text": [
      "Data for strategy A\n",
      "1.4357039773081144 0.5675917730660432 0.430039658501291 -0.0004409236368316797\n",
      "Data for strategy D\n",
      "1.4730052909559077 0.6000487603035487 0.40675619958910325 0.00913970550749706\n"
     ]
    },
    {
     "name": "stderr",
     "output_type": "stream",
     "text": [
      "/appl/soft/ai/miniconda3/envs/python-data-3.7-2/lib/python3.7/site-packages/ipykernel_launcher.py:13: RuntimeWarning: invalid value encountered in power\n",
      "  del sys.path[0]\n",
      "/users/ghoshkun/.local/lib/python3.7/site-packages/scipy/optimize/minpack.py:808: OptimizeWarning: Covariance of the parameters could not be estimated\n",
      "  category=OptimizeWarning)\n",
      "/users/ghoshkun/.local/lib/python3.7/site-packages/scipy/optimize/minpack.py:808: OptimizeWarning: Covariance of the parameters could not be estimated\n",
      "  category=OptimizeWarning)\n"
     ]
    },
    {
     "data": {
      "text/plain": [
       "<matplotlib.legend.Legend at 0x7fd5e40fdc50>"
      ]
     },
     "execution_count": 171,
     "metadata": {},
     "output_type": "execute_result"
    },
    {
     "data": {
      "image/png": "[encoded data removed]",
      "text/plain": [
       "<Figure size 460.8x316.8 with 1 Axes>"
      ]
     },
     "metadata": {
      "needs_background": "light"
     },
     "output_type": "display_data"
    }
   ],
   "source": [
    "from scipy.optimize import curve_fit\n",
    "\n",
    "coeffs = { 'A' : None, 'D' : None }\n",
    "mean_dict = {'A' : None, 'D' : None}\n",
    "\n",
    "for idx, (mean, std) in enumerate(zip(means,stds)):\n",
    "    if labels[idx] in ['A', 'D']:\n",
    "        \"\"\"\n",
    "        Only plot strategy A and D.\n",
    "        \"\"\"\n",
    "        print(f\"Data for strategy {labels[idx]}\")\n",
    "\n",
    "        results = curve_fit(lambda x,a,b,c,d: d + (a-d)/(1 + (x/c)**b), batch_sizes, mean, p0=[0.5, 0.5, 0.5, 0.5], bounds=(-1, [3., 1., 2, 2]))\n",
    "        a, b, c, d= results[0]\n",
    "        coeffs[labels[idx]] = results[0]\n",
    "        mean_dict[labels[idx]] = mean\n",
    "        print(a, b, c, d)\n",
    "        x = batch_sizes # np.arange(0, 17, batch_size)\n",
    "        y = d + (a-d)/(1 + (x/c)**b)\n",
    "        \n",
    "        plt.plot(x, y)\n",
    "        plt.scatter(batch_sizes, mean, label=labels[idx])\n",
    "plt.legend()"
   ]
  },
  {
   "cell_type": "code",
   "execution_count": 172,
   "metadata": {},
   "outputs": [
    {
     "name": "stderr",
     "output_type": "stream",
     "text": [
      "No handles with labels found to put in legend.\n"
     ]
    },
    {
     "name": "stdout",
     "output_type": "stream",
     "text": [
      "1 0.9966812924450599\n",
      "9 8.187009282809996\n",
      "17 15.340949335509357\n",
      "[0, 0.9966812924450599, 8, 8.187009282809996, 15.340949335509357, 16]\n",
      "['0.00', '1.00', '8.00', '8.19', '15.34', '16.00']\n"
     ]
    },
    {
     "data": {
      "image/png": "[encoded data removed]",
      "text/plain": [
       "<Figure size 460.8x316.8 with 1 Axes>"
      ]
     },
     "metadata": {
      "needs_background": "light"
     },
     "output_type": "display_data"
    }
   ],
   "source": [
    "xticks = [_ for _ in range(0,17,batch_size)]\n",
    "data_saving = []\n",
    "a,b,c,d = coeffs['D']\n",
    "for y, batch_size in zip(mean_dict['A'], batch_sizes):\n",
    "    x = c * (-1 + (a-d)/(y-d))**(1./b)\n",
    "    xticks.append(x)\n",
    "    data_saving.append(batch_size - x)\n",
    "    print(batch_size, x)\n",
    "    # vertical line at x\n",
    "    # plt.axvline(x=x, color='k', linestyle=\"--\")\n",
    "    plt.plot((x, x), (0, y), color='k', linestyle=\"--\")\n",
    "    plt.hlines(y, x, batch_size, color='k', linestyle=\"--\")\n",
    "\n",
    "xticks.sort()\n",
    "print(xticks)\n",
    "plt.legend()\n",
    "xticks_str = []\n",
    "for idx, x in enumerate(xticks):\n",
    "    if x in batch_sizes:\n",
    "        xticks_str.append(\" \")\n",
    "    else:\n",
    "        xticks_str.append(\"%.2f\" % x)\n",
    "\n",
    "print(xticks_str)"
   ]
  },
  {
   "cell_type": "code",
   "execution_count": 173,
   "metadata": {},
   "outputs": [
    {
     "name": "stdout",
     "output_type": "stream",
     "text": [
      "Batch sizes [ 1  9 17]\n",
      "datasavings [0.00331871 0.81299072 1.65905066]\n",
      "datasavings [0.33187076 9.03323019 9.75912156]\n"
     ]
    },
    {
     "data": {
      "image/png": "[encoded data removed]",
      "text/plain": [
       "<Figure size 460.8x316.8 with 1 Axes>"
      ]
     },
     "metadata": {
      "needs_background": "light"
     },
     "output_type": "display_data"
    }
   ],
   "source": [
    "data_saving = np.array(data_saving)\n",
    "batch_sizes = np.array(batch_sizes)\n",
    "print(f\"Batch sizes {batch_sizes}\")\n",
    "savings_in_percent = 100 * data_saving / batch_sizes\n",
    "print(f\"datasavings {data_saving}\")\n",
    "plt.plot(batch_sizes, savings_in_percent, color=\"k\")\n",
    "print(f\"datasavings {savings_in_percent}\")\n",
    "plt.scatter(batch_sizes, savings_in_percent, color=\"k\", label=\"Datasaving (D vs A) in percent\")\n",
    "plt.xscale(\"linear\")\n",
    "plt.legend()\n",
    "plt.xticks(batch_sizes)\n",
    "plt.xlabel(\"Data size (x10^3)\")\n",
    "plt.ylabel(\"Datasaving in percent\")\n",
    "plt.grid()"
   ]
  },
  {
   "cell_type": "markdown",
   "metadata": {},
   "source": [
    "# Distribution of molecule count per energy range\n",
    "\n",
    "Done for AA and QM9"
   ]
  },
  {
   "cell_type": "code",
   "execution_count": 40,
   "metadata": {},
   "outputs": [],
   "source": [
    "from matplotlib import pyplot as plt\n",
    "\n",
    "import os\n",
    "import numpy as np\n",
    "import matplotlib\n",
    "%matplotlib inline\n",
    "\n",
    "plt.style.use('seaborn-paper')\n",
    "font = {'size'   : 20}\n",
    "labelsize = {'labelsize'   : 20, 'titlesize' : 20}\n",
    "matplotlib.rc('font', **font)\n",
    "matplotlib.rc('axes', **labelsize)\n",
    "params = {'legend.fontsize': 'small',\n",
    "  'axes.labelsize': 'medium',\n",
    "  'axes.titlesize':'medium',\n",
    "  'xtick.labelsize':'medium',\n",
    "  'ytick.labelsize':'medium'}\n",
    "matplotlib.rcParams.update(params)\n",
    "\n",
    "os.chdir(\"/projappl/project_2000382/ghoshkun/data\")\n",
    "aa = np.loadtxt(\"AA/HOMO.txt\")\n",
    "qm9 = np.loadtxt(\"QM9/HOMO.txt\")"
   ]
  },
  {
   "cell_type": "code",
   "execution_count": 46,
   "metadata": {},
   "outputs": [
    {
     "data": {
      "text/plain": [
       "Text(0, 0.5, 'Percent of dataset')"
      ]
     },
     "execution_count": 46,
     "metadata": {},
     "output_type": "execute_result"
    },
    {
     "data": {
      "image/png": "[encoded data removed]",
      "text/plain": [
       "<Figure size 460.8x316.8 with 1 Axes>"
      ]
     },
     "metadata": {
      "needs_background": "light"
     },
     "output_type": "display_data"
    }
   ],
   "source": [
    "obj = plt.hist(aa, bins=50, density=True, color=\"#fecc5c\",range=[-20, 0])\n",
    "plt.ylim((0,1))\n",
    "plt.xlabel(\"energy (eV)\")\n",
    "plt.ylabel(\"Percent of dataset\")"
   ]
  },
  {
   "cell_type": "code",
   "execution_count": 47,
   "metadata": {},
   "outputs": [
    {
     "data": {
      "text/plain": [
       "Text(0, 0.5, 'Percent of dataset')"
      ]
     },
     "execution_count": 47,
     "metadata": {},
     "output_type": "execute_result"
    },
    {
     "data": {
      "image/png": "[encoded data removed]",
      "text/plain": [
       "<Figure size 460.8x316.8 with 1 Axes>"
      ]
     },
     "metadata": {
      "needs_background": "light"
     },
     "output_type": "display_data"
    }
   ],
   "source": [
    "obj = plt.hist(qm9, bins=50, density=True, color=\"#fd8d3c\",range=[-20, 0])  \n",
    "plt.ylim((0,1))\n",
    "plt.xlabel(\"energy (eV)\")\n",
    "plt.ylabel(\"Percent of dataset\")"
   ]
  },
  {
   "cell_type": "code",
   "execution_count": null,
   "metadata": {},
   "outputs": [],
   "source": []
  },
  {
   "cell_type": "code",
   "execution_count": null,
   "metadata": {},
   "outputs": [],
   "source": []
  }
 ],
 "metadata": {
  "kernelspec": {
   "display_name": "Python 3",
   "language": "python",
   "name": "python3"
  },
  "language_info": {
   "codemirror_mode": {
    "name": "ipython",
    "version": 3
   },
   "file_extension": ".py",
   "mimetype": "text/x-python",
   "name": "python",
   "nbconvert_exporter": "python",
   "pygments_lexer": "ipython3",
   "version": "3.7.6"
  }
 },
 "nbformat": 4,
 "nbformat_minor": 5
}
