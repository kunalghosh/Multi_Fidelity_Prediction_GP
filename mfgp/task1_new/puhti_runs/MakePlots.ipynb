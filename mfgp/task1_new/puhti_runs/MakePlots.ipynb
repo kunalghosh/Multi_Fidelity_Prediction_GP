{
 "cells": [
  {
   "cell_type": "markdown",
   "metadata": {},
   "source": [
    "This notebook is used to make plots. The notebook is converted to a plain python text file using [jupytext](https://jupytext.readthedocs.io/en/latest/)"
   ]
  },
  {
   "cell_type": "code",
   "execution_count": 3,
   "metadata": {},
   "outputs": [],
   "source": [
    "import os\n",
    "import numpy as np\n",
    "import pandas as pd"
   ]
  },
  {
   "cell_type": "code",
   "execution_count": 4,
   "metadata": {},
   "outputs": [
    {
     "name": "stdout",
     "output_type": "stream",
     "text": [
      "[jupytext] Reading MakePlots.ipynb in format ipynb\n",
      "[jupytext] Updating MakePlots.py\n"
     ]
    }
   ],
   "source": [
    "os.chdir(\"/projappl/project_2000382/ghoshkun/code/Multi_Fidelity_Prediction_GP/mfgp/task1_new/puhti_runs\")\n",
    "# print(os.getcwd())\n",
    "# !module load python-data/3.7.6-1\n",
    "# !python -m pip install jupytext\n",
    "!python -m jupytext --sync MakePlots.ipynb"
   ]
  },
  {
   "cell_type": "markdown",
   "metadata": {},
   "source": [
    "# Energy (x) vs Uncertainty (y) plot\n",
    "In this plot we load the python model for each batch in run 1 of a given Dataset/Strategy/Batches combo (e.g. AA_D_EXP ) and make a plot which shows where was the uncertainty reduced the most. The data for this plot is present in `Puhti` under `/scratch/project_2000382/ghoshkun/Multi_Fidelity_Prediction_GP/mfgp/task1_new/puhti_runs`"
   ]
  },
  {
   "cell_type": "code",
   "execution_count": 5,
   "metadata": {},
   "outputs": [
    {
     "data": {
      "text/plain": [
       "'/projappl/project_2000382/ghoshkun/code/Multi_Fidelity_Prediction_GP/mfgp/task1_new/puhti_runs'"
      ]
     },
     "execution_count": 5,
     "metadata": {},
     "output_type": "execute_result"
    }
   ],
   "source": [
    "import os\n",
    "os.getcwd()"
   ]
  },
  {
   "cell_type": "markdown",
   "metadata": {},
   "source": [
    "Set the current working directory to where the data exists"
   ]
  },
  {
   "cell_type": "code",
   "execution_count": 6,
   "metadata": {},
   "outputs": [],
   "source": [
    "os.chdir(\"/projappl/project_2000382/ghoshkun/code/Multi_Fidelity_Prediction_GP/mfgp/task1_new/puhti_runs\")\n",
    "assert os.getcwd() == \"/projappl/project_2000382/ghoshkun/code/Multi_Fidelity_Prediction_GP/mfgp/task1_new/puhti_runs\""
   ]
  },
  {
   "cell_type": "markdown",
   "metadata": {},
   "source": [
    "TODO : For the plot with the new data, save the means and standard deviation."
   ]
  },
  {
   "cell_type": "markdown",
   "metadata": {},
   "source": [
    "# Data savings plot\n",
    "\n",
    "The code is based on the original implementation in "
   ]
  },
  {
   "cell_type": "code",
   "execution_count": 8,
   "metadata": {},
   "outputs": [],
   "source": [
    "def plot_strategy_a_vs_d(dataset_name, means, stds):\n",
    "    for idx, (mean, std) in enumerate(zip(means,stds)):\n",
    "        if labels[idx] in ['A', 'D']:\n",
    "            \"\"\"\n",
    "            Only plot strategy A and D.\n",
    "            \"\"\"\n",
    "            _ = plt.errorbar(batch_sizes, mean, std, capsize=lines['linewidth'])\n",
    "            _ = plt.scatter(batch_sizes, mean, label=labels[idx])\n",
    "    plt.grid()\n",
    "    plt.xlabel(\"Dataset size (x2000)\")\n",
    "    plt.ylabel(\"MAE (eV)\")\n",
    "    plt.xlim((0, 18))\n",
    "    plt.xticks(range(0, 17, 2))\n",
    "    plt.title(f\"{dataset_name} - Strategy A vs D\")\n",
    "    \n",
    "# plot_strategy_a_vs_d(dataset_name = \"AA\", means=means, stds=stds)    "
   ]
  },
  {
   "cell_type": "code",
   "execution_count": 9,
   "metadata": {},
   "outputs": [],
   "source": [
    "from scipy.optimize import curve_fit\n",
    "\n",
    "def fit_curve_to_data(means, stds, labels, batch_sizes):\n",
    "    coeffs = { 'A' : None, 'D' : None }\n",
    "    mean_dict = {'A' : None, 'D' : None}\n",
    "    for idx, (mean, std) in enumerate(zip(means,stds)):\n",
    "        if labels[idx] in ['A', 'D']:\n",
    "            \"\"\"\n",
    "            Only plot strategy A and D.\n",
    "            \"\"\"\n",
    "            results = curve_fit(lambda x,a,b,c,d: d + (a-d)/(1 + (x/c)**b), batch_sizes, mean, p0=[0.5, 0.5, 0.5, 0.5], bounds=(-1, [3., 1., 2, 2]))\n",
    "            a, b, c, d= results[0]\n",
    "            coeffs[labels[idx]] = results[0]\n",
    "            mean_dict[labels[idx]] = mean\n",
    "\n",
    "            x = batch_sizes # np.arange(0, 17, batch_size)\n",
    "            y = d + (a-d)/(1 + (x/c)**b)\n",
    "\n",
    "    return coeffs, mean_dict\n",
    "\n",
    "\n",
    "# fit_curve_to_data(means, stds, labels, batch_sizes)"
   ]
  },
  {
   "cell_type": "code",
   "execution_count": 10,
   "metadata": {},
   "outputs": [],
   "source": [
    "def get_data_savings(mean_dict, coeffs, batch_size, batch_sizes):\n",
    "    xticks = [_ for _ in range(0,17,batch_size)]\n",
    "    data_saving = []\n",
    "    a,b,c,d = coeffs['D']\n",
    "    for y, batch_size in zip(mean_dict['A'], batch_sizes):\n",
    "        x = c * (-1 + (a-d)/(y-d))**(1./b)\n",
    "        xticks.append(x)\n",
    "        data_saving.append(batch_size - x)\n",
    "\n",
    "    xticks.sort()\n",
    "    xticks_str = []\n",
    "    for idx, x in enumerate(xticks):\n",
    "        if x in batch_sizes:\n",
    "            xticks_str.append(\" \")\n",
    "        else:\n",
    "            xticks_str.append(\"%.2f\" % x)\n",
    "    \n",
    "    return data_saving\n",
    "\n",
    "# get_data_savings(mean_dict, coeffs, batch_size, batch_sizes)"
   ]
  },
  {
   "cell_type": "code",
   "execution_count": 11,
   "metadata": {},
   "outputs": [
    {
     "name": "stderr",
     "output_type": "stream",
     "text": [
      "findfont: Font family ['normal'] not found. Falling back to DejaVu Sans.\n"
     ]
    },
    {
     "data": {
      "image/png": "[encoded data removed]",
      "text/plain": [
       "<Figure size 432x288 with 1 Axes>"
      ]
     },
     "metadata": {
      "needs_background": "light"
     },
     "output_type": "display_data"
    }
   ],
   "source": [
    "import os\n",
    "import pandas as pd\n",
    "import numpy as np\n",
    "import matplotlib\n",
    "%matplotlib inline\n",
    "from matplotlib import pyplot as plt\n",
    "\n",
    "def plot_data_savings(strategy_a_file, strategy_d_file, batch_size):\n",
    "    aa_a = pd.read_csv(strategy_a_file)\n",
    "    aa_d = pd.read_csv(strategy_d_file)\n",
    "    \n",
    "    # formatting plots\n",
    "    font = {'family' : 'normal', 'size'   : 15}\n",
    "    lines = {\"linewidth\": 4}\n",
    "\n",
    "    matplotlib.rc('font', **font)\n",
    "    matplotlib.rc('lines', **lines)\n",
    "\n",
    "    batch_sizes = np.arange(0,17,batch_size) + 1\n",
    "    \n",
    "    labels = \"A B C D E F G\".split(\" \")\n",
    "    labs = [[_] for _ in labels]\n",
    "\n",
    "    aa_a_means = aa_a.mean_vals.to_numpy()\n",
    "    aa_d_means = aa_d.mean_vals.to_numpy()\n",
    "\n",
    "    aa_a_stds = aa_a.std_vals.to_numpy()\n",
    "    aa_d_stds = aa_d.std_vals.to_numpy()\n",
    "\n",
    "\n",
    "    stds = [aa_a_stds,\n",
    "         [],\n",
    "         [],\n",
    "         aa_d_stds,\n",
    "         [],\n",
    "         [],\n",
    "         []]\n",
    "\n",
    "    means = [aa_a_means,\n",
    "         [],\n",
    "         [],\n",
    "         aa_d_means,\n",
    "         [],\n",
    "         [],\n",
    "         []]\n",
    "    \n",
    "    coeffs, mean_dict = fit_curve_to_data(means, stds, labels, batch_sizes)\n",
    "    data_saving = get_data_savings(mean_dict, coeffs, batch_size, batch_sizes)\n",
    "    \n",
    "    data_saving = np.array(data_saving)\n",
    "    batch_sizes = np.array(batch_sizes)\n",
    "\n",
    "    savings_in_percent = 100 * data_saving / batch_sizes\n",
    "    plt.plot(batch_sizes, savings_in_percent, color=\"k\")\n",
    "    plt.scatter(batch_sizes, savings_in_percent, color=\"k\", label=\"Datasaving (D vs A) in percent\")\n",
    "    plt.xscale(\"linear\")\n",
    "    plt.legend()\n",
    "    plt.xticks(batch_sizes)\n",
    "    plt.xlabel(\"Data size (x10^3)\")\n",
    "    plt.ylabel(\"Datasaving in percent\")\n",
    "    plt.grid()\n",
    "    \n",
    "os.chdir(\"/projappl/project_2000382/ghoshkun/code/Multi_Fidelity_Prediction_GP/mfgp/task1_new/puhti_runs\")    \n",
    "plot_data_savings(strategy_a_file = \"csv_files/Active_learning_results - AA_A_1k.csv\",\n",
    "                  strategy_d_file = \"csv_files/Active_learning_results - AA_D_1k.csv\",\n",
    "                  batch_size=1) # 1 for 1k, 2 for 2k etc"
   ]
  },
  {
   "cell_type": "markdown",
   "metadata": {},
   "source": [
    "# Distribution of molecule count per energy range\n",
    "\n",
    "Done for AA and QM9"
   ]
  },
  {
   "cell_type": "code",
   "execution_count": 40,
   "metadata": {},
   "outputs": [],
   "source": [
    "from matplotlib import pyplot as plt\n",
    "\n",
    "import os\n",
    "import numpy as np\n",
    "import matplotlib\n",
    "%matplotlib inline\n",
    "\n",
    "plt.style.use('seaborn-paper')\n",
    "font = {'size'   : 20}\n",
    "labelsize = {'labelsize'   : 20, 'titlesize' : 20}\n",
    "matplotlib.rc('font', **font)\n",
    "matplotlib.rc('axes', **labelsize)\n",
    "params = {'legend.fontsize': 'small',\n",
    "  'axes.labelsize': 'medium',\n",
    "  'axes.titlesize':'medium',\n",
    "  'xtick.labelsize':'medium',\n",
    "  'ytick.labelsize':'medium'}\n",
    "matplotlib.rcParams.update(params)\n",
    "\n",
    "os.chdir(\"/projappl/project_2000382/ghoshkun/data\")\n",
    "aa = np.loadtxt(\"AA/HOMO.txt\")\n",
    "qm9 = np.loadtxt(\"QM9/HOMO.txt\")"
   ]
  },
  {
   "cell_type": "code",
   "execution_count": 46,
   "metadata": {},
   "outputs": [
    {
     "data": {
      "text/plain": [
       "Text(0, 0.5, 'Percent of dataset')"
      ]
     },
     "execution_count": 46,
     "metadata": {},
     "output_type": "execute_result"
    },
    {
     "data": {
      "image/png": "[encoded data removed]",
      "text/plain": [
       "<Figure size 460.8x316.8 with 1 Axes>"
      ]
     },
     "metadata": {
      "needs_background": "light"
     },
     "output_type": "display_data"
    }
   ],
   "source": [
    "obj = plt.hist(aa, bins=50, density=True, color=\"#fecc5c\",range=[-20, 0])\n",
    "plt.ylim((0,1))\n",
    "plt.xlabel(\"energy (eV)\")\n",
    "plt.ylabel(\"Percent of dataset\")"
   ]
  },
  {
   "cell_type": "code",
   "execution_count": 47,
   "metadata": {},
   "outputs": [
    {
     "data": {
      "text/plain": [
       "Text(0, 0.5, 'Percent of dataset')"
      ]
     },
     "execution_count": 47,
     "metadata": {},
     "output_type": "execute_result"
    },
    {
     "data": {
      "image/png": "[encoded data removed]",
      "text/plain": [
       "<Figure size 460.8x316.8 with 1 Axes>"
      ]
     },
     "metadata": {
      "needs_background": "light"
     },
     "output_type": "display_data"
    }
   ],
   "source": [
    "obj = plt.hist(qm9, bins=50, density=True, color=\"#fd8d3c\",range=[-20, 0])  \n",
    "plt.ylim((0,1))\n",
    "plt.xlabel(\"energy (eV)\")\n",
    "plt.ylabel(\"Percent of dataset\")"
   ]
  },
  {
   "cell_type": "code",
   "execution_count": null,
   "metadata": {},
   "outputs": [],
   "source": []
  },
  {
   "cell_type": "code",
   "execution_count": null,
   "metadata": {},
   "outputs": [],
   "source": []
  }
 ],
 "metadata": {
  "kernelspec": {
   "display_name": "Python 3",
   "language": "python",
   "name": "python3"
  },
  "language_info": {
   "codemirror_mode": {
    "name": "ipython",
    "version": 3
   },
   "file_extension": ".py",
   "mimetype": "text/x-python",
   "name": "python",
   "nbconvert_exporter": "python",
   "pygments_lexer": "ipython3",
   "version": "3.7.6"
  }
 },
 "nbformat": 4,
 "nbformat_minor": 5
}
