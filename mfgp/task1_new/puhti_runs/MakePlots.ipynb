{
 "cells": [
  {
   "cell_type": "markdown",
   "id": "9906122d",
   "metadata": {},
   "source": [
    "This notebook is used to make plots. The notebook is converted to a plain python text file using [jupytext](https://jupytext.readthedocs.io/en/latest/)"
   ]
  },
  {
   "cell_type": "code",
   "execution_count": 4,
   "id": "f3a079e5",
   "metadata": {},
   "outputs": [],
   "source": [
    "import numpy as np\n",
    "import pandas as pd"
   ]
  },
  {
   "cell_type": "code",
   "execution_count": 13,
   "id": "68641f68",
   "metadata": {},
   "outputs": [],
   "source": [
    "aa_a_1k = pd.read_csv(\"csv_files/Active learning results - new - AA_A_1k.csv\")\n"
   ]
  },
  {
   "cell_type": "code",
   "execution_count": 15,
   "id": "667cb40f",
   "metadata": {},
   "outputs": [
    {
     "data": {
      "text/plain": [
       "0     0.547348\n",
       "1     0.405195\n",
       "2     0.345960\n",
       "3     0.304385\n",
       "4     0.277288\n",
       "5     0.257633\n",
       "6     0.241584\n",
       "7     0.226030\n",
       "8     0.216310\n",
       "9     0.209477\n",
       "10    0.201103\n",
       "11    0.193271\n",
       "12    0.186277\n",
       "13    0.178212\n",
       "14    0.172891\n",
       "15    0.167611\n",
       "16    0.164436\n",
       "Name: mean_vals, dtype: float64"
      ]
     },
     "execution_count": 15,
     "metadata": {},
     "output_type": "execute_result"
    }
   ],
   "source": [
    "aa_a_1k.mean_vals"
   ]
  },
  {
   "cell_type": "code",
   "execution_count": 2,
   "id": "6a8428b4",
   "metadata": {},
   "outputs": [
    {
     "name": "stdout",
     "output_type": "stream",
     "text": [
      "[jupytext] Reading MakePlots.ipynb in format ipynb\r\n",
      "[jupytext] Loading MakePlots.py\r\n",
      "[jupytext] Updating the timestamp of MakePlots.py\r\n"
     ]
    }
   ],
   "source": [
    "!python -m jupytext --sync MakePlots.ipynb"
   ]
  },
  {
   "cell_type": "code",
   "execution_count": null,
   "id": "491a9be4",
   "metadata": {},
   "outputs": [],
   "source": []
  }
 ],
 "metadata": {
  "kernelspec": {
   "display_name": "Python 3",
   "language": "python",
   "name": "python3"
  },
  "language_info": {
   "codemirror_mode": {
    "name": "ipython",
    "version": 3
   },
   "file_extension": ".py",
   "mimetype": "text/x-python",
   "name": "python",
   "nbconvert_exporter": "python",
   "pygments_lexer": "ipython3",
   "version": "3.9.4"
  }
 },
 "nbformat": 4,
 "nbformat_minor": 5
}
